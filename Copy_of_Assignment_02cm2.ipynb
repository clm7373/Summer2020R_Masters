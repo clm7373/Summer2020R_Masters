{
  "nbformat": 4,
  "nbformat_minor": 0,
  "metadata": {
    "kernelspec": {
      "display_name": "Python 3",
      "language": "python",
      "name": "python3"
    },
    "language_info": {
      "codemirror_mode": {
        "name": "ipython",
        "version": 3
      },
      "file_extension": ".py",
      "mimetype": "text/x-python",
      "name": "python",
      "nbconvert_exporter": "python",
      "pygments_lexer": "ipython3",
      "version": "3.7.3"
    },
    "colab": {
      "name": "Copy of Assignment_02cm2.ipynb",
      "provenance": [],
      "collapsed_sections": [],
      "toc_visible": true,
      "include_colab_link": true
    }
  },
  "cells": [
    {
      "cell_type": "markdown",
      "metadata": {
        "id": "view-in-github",
        "colab_type": "text"
      },
      "source": [
        "<a href=\"https://colab.research.google.com/github/clm7373/Summer2020R_Masters/blob/master/Copy_of_Assignment_02cm2.ipynb\" target=\"_parent\"><img src=\"https://colab.research.google.com/assets/colab-badge.svg\" alt=\"Open In Colab\"/></a>"
      ]
    },
    {
      "cell_type": "markdown",
      "metadata": {
        "id": "-LB7GMLXiTNc",
        "colab_type": "text"
      },
      "source": [
        "# Introduction to Programming (Summer 2020)\n",
        "\n",
        "## Assignment 2 (Due date: 3 August 2020, by midnight)"
      ]
    },
    {
      "cell_type": "markdown",
      "metadata": {
        "id": "OchN0YKIiTNd",
        "colab_type": "text"
      },
      "source": [
        "### Question 1\n",
        "\n",
        "#### String Handling\n",
        "#### 1.1) \n",
        "Complete the following function which checks whether a DNA sequence is valid. A valid DNA sequence will only contain **'A,a,C,c,G,g,T,t'** characters for this question. If the sequence is valid return **True**, otherwise return **False**.\n",
        "\n",
        "*When running the block, the assert statements will raise errors if your program does not return the correct response.*\n"
      ]
    },
    {
      "cell_type": "code",
      "metadata": {
        "id": "lDkV_HusiTNe",
        "colab_type": "code",
        "colab": {}
      },
      "source": [
        "def validity_check(sequence, code=\"ATGCactg\"):\n",
        "   \n",
        "  for letter in sequence:\n",
        "    if letter not in code:\n",
        "            return False\n",
        "  return True\n",
        "    # COMPLETE\n",
        "   \n",
        "\n",
        "\n",
        "assert validity_check('ACGT') == True, 'validity_check(\"ACGT\") returns False, should return True'\n",
        "assert validity_check('acgt') == True, 'validity_check(\"acgt\") returns False, should return True'\n",
        "assert validity_check('AGUC') == False, 'validity_check(\"AGUC\") returns True, should return False'\n",
        "assert validity_check('PPPP') == False, 'validity_check(\"PPPP\") returns True, should return False'"
      ],
      "execution_count": 2,
      "outputs": []
    },
    {
      "cell_type": "markdown",
      "metadata": {
        "id": "liVvCz-tiTNi",
        "colab_type": "text"
      },
      "source": [
        "#### 1.2)\n",
        "Complete the following function which will return the reverse complement of a DNA sequence.\n",
        "\n",
        "The reverse complement is calculated by reversing the sequence and substituting: \n",
        "+ 'A' with 'T'\n",
        "+ 'T' with 'A'\n",
        "+ 'G' with 'C'\n",
        "+ 'C' with 'G'\n",
        "\n",
        "EG:\n",
        "```\n",
        "reverse_complement('AATC')\n",
        "\n",
        "step 1 - reverse the sequence:\n",
        "    reverse = 'CTAA'\n",
        "    \n",
        "step 2 - replace the characters with their complement:\n",
        "    'C' -> 'G'\n",
        "    'T' -> 'A'\n",
        "    'A' -> 'T'\n",
        "    'A' -> 'T'\n",
        "    \n",
        "    complement = 'GATT' \n",
        "```\n",
        "\n",
        "*When running the block, the assert statements will raise errors if your program does not return the correct response.*"
      ]
    },
    {
      "cell_type": "code",
      "metadata": {
        "id": "yIS5cN-1A-6U",
        "colab_type": "code",
        "colab": {}
      },
      "source": [
        "tg\n"
      ],
      "execution_count": null,
      "outputs": []
    },
    {
      "cell_type": "code",
      "metadata": {
        "id": "TRQL3Fg5iTNi",
        "colab_type": "code",
        "colab": {
          "base_uri": "https://localhost:8080/",
          "height": 69
        },
        "outputId": "7d06f3d2-9138-49fd-bfc5-81ddbc9a47b9"
      },
      "source": [
        "def reverse_complement(seq):\n",
        "    output = ''\n",
        "    for letter in seq:\n",
        "        letter = letter.upper()\n",
        "\n",
        "        if letter == 'A':\n",
        "            output += 'T'\n",
        "        elif letter == 'T':\n",
        "            output += 'A'\n",
        "        elif letter == 'G':\n",
        "            output += 'C'\n",
        "        else:\n",
        "            output += 'G'\n",
        "\n",
        "    return(output[::-1])\n",
        "dna=input(print(\"what is your sequence?\"))\n",
        "\n",
        "final= reverse_complement(dna)\n",
        "print(final)\n",
        "\n",
        "\n",
        "assert reverse_complement('AAGCT') == 'AGCTT', 'reverse_complement(\"AAGCT\") should return \"AGCTT\"'\n",
        "assert reverse_complement('tggca') in ['tgcca','TGCCA'], 'reverse_complement(\"tggca\") should return \"tgcca\"'"
      ],
      "execution_count": 121,
      "outputs": [
        {
          "output_type": "stream",
          "text": [
            "what is your sequence?\n",
            "atg\n",
            "CAT\n"
          ],
          "name": "stdout"
        }
      ]
    },
    {
      "cell_type": "code",
      "metadata": {
        "id": "Vbqr88oA74iN",
        "colab_type": "code",
        "colab": {}
      },
      "source": [
        "\n"
      ],
      "execution_count": null,
      "outputs": []
    },
    {
      "cell_type": "code",
      "metadata": {
        "id": "il0nmBQZ_B8x",
        "colab_type": "code",
        "colab": {}
      },
      "source": [
        ""
      ],
      "execution_count": null,
      "outputs": []
    },
    {
      "cell_type": "markdown",
      "metadata": {
        "id": "wLKlR5JdiTNl",
        "colab_type": "text"
      },
      "source": [
        "#### 1.3)\n",
        "\n",
        "Write a script which will allow a user to input multiple DNA sequences one at a time. You do not know how many in advance and should take this into account. Your code will then check if the sequence is valid and return the reverse complement if it is. If the sequence is not valid, print an error message alerting the user to this.\n",
        "\n",
        "It would be a good idea to use the functions you created in 1.1 and 1.2\n",
        "\n",
        "```\n",
        "PSEUDOCODE:\n",
        "loop until '' is entered:\n",
        "    prompt user for a new seq\n",
        "    if seq is valid:\n",
        "        output reverse complement\n",
        "    else\n",
        "        output error message indicating that sequence was invalid\n",
        "```"
      ]
    },
    {
      "cell_type": "code",
      "metadata": {
        "id": "gxY_qZi3BImh",
        "colab_type": "code",
        "colab": {}
      },
      "source": [
        ""
      ],
      "execution_count": null,
      "outputs": []
    },
    {
      "cell_type": "code",
      "metadata": {
        "colab_type": "code",
        "id": "FgAuAK1BAxkn",
        "colab": {}
      },
      "source": [
        "\n",
        "def reverse_complement(seq):\n",
        "    output = ''\n",
        "    for letter in seq:\n",
        "        letter = letter.upper()\n",
        "\n",
        "        if letter == 'A':\n",
        "            output += 'T'\n",
        "        elif letter == 'T':\n",
        "            output += 'A'\n",
        "        elif letter == 'G':\n",
        "            output += 'C'\n",
        "        else:\n",
        "            output += 'G'\n",
        "\n",
        "    return(output[::-1])\n",
        "s = input(print(\"what is your sequence?\"))\n",
        "\n",
        "final = reverse_complement(s)\n",
        "print(final)\n",
        "while True:\n",
        "  try:\n",
        "    s = input(print(\"what is your sequence?\"))\n",
        "    final = reverse_complement(s)\n",
        "    print(final)\n",
        "  except ValueError:\n",
        "    print(\"Oops!  That was no valid number\")\n",
        "  break\n",
        "\n",
        "  \n",
        "\n",
        "\n",
        "\n",
        "\n",
        "\n",
        "assert reverse_complement('AAGCT') == 'AGCTT', 'reverse_complement(\"AAGCT\") should return \"AGCTT\"'\n",
        "assert reverse_complement('tggca') in ['tgcca','TGCCA'], 'reverse_complement(\"tggca\") should return \"tgcca\"'"
      ],
      "execution_count": null,
      "outputs": []
    },
    {
      "cell_type": "code",
      "metadata": {
        "id": "H4ASlqALveWT",
        "colab_type": "code",
        "colab": {}
      },
      "source": [
        ""
      ],
      "execution_count": null,
      "outputs": []
    },
    {
      "cell_type": "code",
      "metadata": {
        "colab_type": "code",
        "id": "bsJkFldAAv5B",
        "colab": {}
      },
      "source": [
        ""
      ],
      "execution_count": null,
      "outputs": []
    },
    {
      "cell_type": "markdown",
      "metadata": {
        "id": "0i7vfXoWiTNq",
        "colab_type": "text"
      },
      "source": [
        "### Question 2\n",
        "\n",
        "In cryptography there are many ways to code messages. An easy method is to shift the alphabet by a given amount, this is known as a Caesar Cipher http://practicalcryptography.com/ciphers/caesar-cipher/.\n",
        "\n",
        "EG:\n",
        "\n",
        "Shift|A|B|C|D|E|F|G|H|I|J|K|L|M|N|O|P|Q|R|S|T|U|V|W|X|Y|Z|\n",
        "-|-|-|-|-|-|-|-|-|-|-|-|-|-|-|-|-|-|-|-|-|-|-|-|-|-|-|\n",
        "1|B|C|D|E|F|G|H|I|J|K|L|M|N|O|P|Q|R|S|T|U|V|W|X|Y|Z|A|\n",
        "2|C|D|E|F|G|H|I|J|K|L|M|N|O|P|Q|R|S|T|U|V|W|X|Y|Z|A|B|\n",
        "10|K|L|M|N|O|P|Q|R|S|T|U|V|W|X|Y|Z|A|B|C|D|E|F|G|H|I|J|\n",
        "\n",
        "In the case of using an alphabet which has been shifted by 1, 'A' will be replaced with 'B', 'B' will be replaced with 'C', ..., 'Z' is replaced with 'A'.\n",
        "\n",
        "#### 2.1)\n",
        "Complete the following function which takes a string and an integer which represents the shift and returns an encoded string."
      ]
    },
    {
      "cell_type": "code",
      "metadata": {
        "id": "KG7MMDpIiTNq",
        "colab_type": "code",
        "colab": {}
      },
      "source": [
        "\n",
        "\n",
        "\n",
        "\n",
        "\n",
        "\n",
        "\n",
        "\n",
        "def encode_string(plain_text, s):\n",
        "    encrypted_text = ''\n",
        "    for i in range(len(plain_text)):\n",
        "        if plain_text[i] == ' ':\n",
        "            encrypted_text = encrypted_text + plain_text[i]\n",
        "        elif plain_text[i].isupper():\n",
        "            encrypted_text = encrypted_text + chr((ord(plain_text[i])+s-65)%26+65)\n",
        "        else:\n",
        "            encrypted_text = encrypted_text + chr((ord(plain_text[i])+s-97)%26+97)\n",
        "    return encrypted_text\n",
        "\n",
        "\n",
        "plain_text = input(\"Input the text you would like encrypted:\")\n",
        "s = int(input(\"Enter shift:\"))\n",
        "encrypt_text = encode_string(plain_text, s)\n",
        "print(\"Encrypted text: {}\".format(encrypt_text))\n",
        "\n",
        "\n",
        "\n",
        "\n",
        "\n",
        "assert encode_string('ABCD', 1) == 'BCDE', \"encode_string('ABCD', 1) should return 'BCDE'\"\n",
        "assert encode_string('FOOBAR', 3) == 'IRREDU', \"encode_string('FOOBAR', 3) should return 'IRREDU'\"\n",
        "assert encode_string('XYZ') == 'CDE', \"encode_string('XYZ') should return 'CDE'\""
      ],
      "execution_count": null,
      "outputs": []
    },
    {
      "cell_type": "code",
      "metadata": {
        "id": "cI0tbXWSk4Vu",
        "colab_type": "code",
        "colab": {}
      },
      "source": [
        ""
      ],
      "execution_count": null,
      "outputs": []
    },
    {
      "cell_type": "markdown",
      "metadata": {
        "id": "i54VypPyiTNs",
        "colab_type": "text"
      },
      "source": [
        "#### 2.2)\n",
        "\n",
        "Complete the following function which takes a string and an integer which represents the shift and returns the decoded message"
      ]
    },
    {
      "cell_type": "code",
      "metadata": {
        "id": "UJj04MK9iTNt",
        "colab_type": "code",
        "colab": {
          "base_uri": "https://localhost:8080/",
          "height": 357
        },
        "outputId": "320e401b-9d6c-42e9-8faf-c1246fbfa6cd"
      },
      "source": [
        "def decode_sting(encrypt_text, s):\n",
        "    decrypted_text = ''\n",
        "    for i in range(len(encrypt_text)):\n",
        "        if encrypt_text[i] == ' ':\n",
        "            decrypted_text = decrypted_text + encrypt_text[i]\n",
        "        elif encrypt_text[i].isupper():\n",
        "            decrypted_text = decrypted_text + chr((ord(encrypt_text[i])-s-65)%26+65)\n",
        "        else:\n",
        "            decrypted_text = decrypted_text + chr((ord(encrypt_text[i])-s-97)%26+97)\n",
        "    return decrypted_text\n",
        "print(\"Decrypted text: {}\".format(decode_string(encrypt_text, s)))\n",
        "\n",
        "\n",
        "\n",
        "assert decode_string('MNO', 10) == 'CDE', \"decode_string('MNO', 10) should return 'CDE'\"\n",
        "assert decode_string('PYTHON') == 'KTOCJI', \"decode_string('PYTHON') should return 'KTOCJI'\"\n",
        "\n",
        "assert decode_string(encode_string('ABCD', 1), 1) == 'ABCD', \"decode_string(encode_string('ABCD', 1), 1) should return 'ABCD'\"\n",
        "assert decode_string(encode_string('FOOBAR', 3), 3) == 'FOOBAR', \"decode_string(encode_string('FOOBAR', 3), 3) should return 'FOOBAR'\"\n",
        "assert decode_string(encode_string('XYZ')) == 'XYZ', \"decode_string(encode_string('XYZ')) should return 'XYZ'\""
      ],
      "execution_count": 171,
      "outputs": [
        {
          "output_type": "error",
          "ename": "AttributeError",
          "evalue": "ignored",
          "traceback": [
            "\u001b[0;31m---------------------------------------------------------------------------\u001b[0m",
            "\u001b[0;31mAttributeError\u001b[0m                            Traceback (most recent call last)",
            "\u001b[0;32m<ipython-input-171-a35473967b71>\u001b[0m in \u001b[0;36m<module>\u001b[0;34m()\u001b[0m\n\u001b[1;32m      9\u001b[0m             \u001b[0mdecrypted_text\u001b[0m \u001b[0;34m=\u001b[0m \u001b[0mdecrypted_text\u001b[0m \u001b[0;34m+\u001b[0m \u001b[0mchr\u001b[0m\u001b[0;34m(\u001b[0m\u001b[0;34m(\u001b[0m\u001b[0mord\u001b[0m\u001b[0;34m(\u001b[0m\u001b[0mencrypt_text\u001b[0m\u001b[0;34m[\u001b[0m\u001b[0mi\u001b[0m\u001b[0;34m]\u001b[0m\u001b[0;34m)\u001b[0m\u001b[0;34m-\u001b[0m\u001b[0ms\u001b[0m\u001b[0;34m-\u001b[0m\u001b[0;36m97\u001b[0m\u001b[0;34m)\u001b[0m\u001b[0;34m%\u001b[0m\u001b[0;36m26\u001b[0m\u001b[0;34m+\u001b[0m\u001b[0;36m97\u001b[0m\u001b[0;34m)\u001b[0m\u001b[0;34m\u001b[0m\u001b[0;34m\u001b[0m\u001b[0m\n\u001b[1;32m     10\u001b[0m     \u001b[0;32mreturn\u001b[0m \u001b[0mdecrypted_text\u001b[0m\u001b[0;34m\u001b[0m\u001b[0;34m\u001b[0m\u001b[0m\n\u001b[0;32m---> 11\u001b[0;31m \u001b[0mprint\u001b[0m\u001b[0;34m(\u001b[0m\u001b[0;34m\"Decrypted text: {}\"\u001b[0m\u001b[0;34m.\u001b[0m\u001b[0mformat\u001b[0m\u001b[0;34m(\u001b[0m\u001b[0mdecode_string\u001b[0m\u001b[0;34m(\u001b[0m\u001b[0mencrypt_text\u001b[0m\u001b[0;34m,\u001b[0m \u001b[0ms\u001b[0m\u001b[0;34m)\u001b[0m\u001b[0;34m)\u001b[0m\u001b[0;34m)\u001b[0m\u001b[0;34m\u001b[0m\u001b[0;34m\u001b[0m\u001b[0m\n\u001b[0m\u001b[1;32m     12\u001b[0m \u001b[0;34m\u001b[0m\u001b[0m\n\u001b[1;32m     13\u001b[0m \u001b[0;34m\u001b[0m\u001b[0m\n",
            "\u001b[0;32m<ipython-input-118-3a0b0f1b1dac>\u001b[0m in \u001b[0;36mdecode_string\u001b[0;34m(key, message)\u001b[0m\n\u001b[1;32m      1\u001b[0m \u001b[0;34m\u001b[0m\u001b[0m\n\u001b[1;32m      2\u001b[0m \u001b[0;32mdef\u001b[0m \u001b[0mdecode_string\u001b[0m\u001b[0;34m(\u001b[0m\u001b[0mkey\u001b[0m\u001b[0;34m,\u001b[0m \u001b[0mmessage\u001b[0m\u001b[0;34m)\u001b[0m\u001b[0;34m:\u001b[0m\u001b[0;34m\u001b[0m\u001b[0;34m\u001b[0m\u001b[0m\n\u001b[0;32m----> 3\u001b[0;31m     \u001b[0mmessage\u001b[0m \u001b[0;34m=\u001b[0m \u001b[0mmessage\u001b[0m\u001b[0;34m.\u001b[0m\u001b[0mupper\u001b[0m\u001b[0;34m(\u001b[0m\u001b[0;34m)\u001b[0m\u001b[0;34m\u001b[0m\u001b[0;34m\u001b[0m\u001b[0m\n\u001b[0m\u001b[1;32m      4\u001b[0m     \u001b[0malpha\u001b[0m \u001b[0;34m=\u001b[0m \u001b[0;34m\"ABCDEFGHIJKLMNOPQRSTUVWXYZ\"\u001b[0m\u001b[0;34m\u001b[0m\u001b[0;34m\u001b[0m\u001b[0m\n\u001b[1;32m      5\u001b[0m     \u001b[0mresult\u001b[0m \u001b[0;34m=\u001b[0m \u001b[0;34m\"\"\u001b[0m\u001b[0;34m\u001b[0m\u001b[0;34m\u001b[0m\u001b[0m\n",
            "\u001b[0;31mAttributeError\u001b[0m: 'int' object has no attribute 'upper'"
          ]
        }
      ]
    },
    {
      "cell_type": "code",
      "metadata": {
        "id": "jBtMBTWW8RZ9",
        "colab_type": "code",
        "colab": {}
      },
      "source": [
        "\n",
        "\n",
        "\n"
      ],
      "execution_count": 55,
      "outputs": []
    },
    {
      "cell_type": "markdown",
      "metadata": {
        "id": "yLsl1pnoiTNv",
        "colab_type": "text"
      },
      "source": [
        "### Question 3\n",
        "\n",
        "Write code which will reproduce each of the following patterns given an input size N\n",
        "\n",
        "Example:\n",
        "\n",
        "```\n",
        "N = 10\n",
        "\n",
        " x x x x x x x x x x\n",
        " x o x o x o x o x o\n",
        " x x x x x x x x x x\n",
        " x o x o x o x o x o\n",
        " x x x x x x x x x x\n",
        " x o x o x o x o x o\n",
        " x x x x x x x x x x\n",
        " x o x o x o x o x o\n",
        " x x x x x x x x x x\n",
        " x o x o x o x o x o\n",
        "\n",
        "```"
      ]
    },
    {
      "cell_type": "code",
      "metadata": {
        "id": "Q72igQKyiTNw",
        "colab_type": "code",
        "colab": {
          "base_uri": "https://localhost:8080/",
          "height": 381
        },
        "outputId": "1a96ad3d-b5c6-4054-a04d-1d65b2e7759b"
      },
      "source": [
        "N = 10\n",
        "pattern = [[' o' for x in range(N)] for y in range(N)]\n",
        "\n",
        "for j in range(N):\n",
        "    for i  in range(N):\n",
        "        if j%2 == 0 or i%2 == 0:\n",
        "            pattern[j][i] = ' x'\n",
        "\n",
        "for row in pattern:\n",
        "    print(''.join(row))\n",
        "    \n",
        "# Another approch is to use the list comprehension to define everything (this is not necessarily easier)\n",
        "print('-'*(N*2))\n",
        "\n",
        "pattern = [[' x' if y%2 == 0 or x%2 == 0 else ' o' for x in range(N)] for y in range(N)]\n",
        "\n",
        "for row in pattern:\n",
        "    print(''.join(row))\n"
      ],
      "execution_count": 34,
      "outputs": [
        {
          "output_type": "stream",
          "text": [
            " x x x x x x x x x x\n",
            " x o x o x o x o x o\n",
            " x x x x x x x x x x\n",
            " x o x o x o x o x o\n",
            " x x x x x x x x x x\n",
            " x o x o x o x o x o\n",
            " x x x x x x x x x x\n",
            " x o x o x o x o x o\n",
            " x x x x x x x x x x\n",
            " x o x o x o x o x o\n",
            "--------------------\n",
            " x x x x x x x x x x\n",
            " x o x o x o x o x o\n",
            " x x x x x x x x x x\n",
            " x o x o x o x o x o\n",
            " x x x x x x x x x x\n",
            " x o x o x o x o x o\n",
            " x x x x x x x x x x\n",
            " x o x o x o x o x o\n",
            " x x x x x x x x x x\n",
            " x o x o x o x o x o\n"
          ],
          "name": "stdout"
        }
      ]
    },
    {
      "cell_type": "markdown",
      "metadata": {
        "id": "HY7VgrePiTN0",
        "colab_type": "text"
      },
      "source": [
        "#### 3.1)\n",
        "\n",
        "```\n",
        "N = 10\n",
        "\n",
        " x x x x x x x x x x\n",
        " x o o o o o o o o x\n",
        " x o o o o o o o o x\n",
        " x o o o o o o o o x\n",
        " x o o o o o o o o x\n",
        " x o o o o o o o o x\n",
        " x o o o o o o o o x\n",
        " x o o o o o o o o x\n",
        " x o o o o o o o o x\n",
        " x x x x x x x x x x\n",
        "```"
      ]
    },
    {
      "cell_type": "code",
      "metadata": {
        "id": "QbDWdWyziTN0",
        "colab_type": "code",
        "colab": {}
      },
      "source": [
        ""
      ],
      "execution_count": null,
      "outputs": []
    },
    {
      "cell_type": "code",
      "metadata": {
        "colab_type": "code",
        "id": "rqkz_IlDypaw",
        "colab": {
          "base_uri": "https://localhost:8080/",
          "height": 381
        },
        "outputId": "fac1392d-02ee-44a2-f5eb-5d7cdcf89d24"
      },
      "source": [
        "N = 10\n",
        "pattern = [[' o' for x in range(N)] for y in range(N)]\n",
        "\n",
        "for j in range(N):\n",
        "    for i  in range(N):\n",
        "        if j%2 == 0 or i%2 == 0:\n",
        "            pattern[j][i] = ' x'\n",
        "\n",
        "for row in pattern:\n",
        "    print(''.join(row))\n",
        "    \n",
        "# Another approch is to use the list comprehension to define everything (this is not necessarily easier)\n",
        "print('-'*(N*2))\n",
        "\n",
        "pattern = [[' x' if y%2 == 0 or x%2 == 0 else ' o' for x in range(N)] for y in range(N)]\n",
        "\n",
        "for row in pattern:\n",
        "    print(''.join(row))\n"
      ],
      "execution_count": 7,
      "outputs": [
        {
          "output_type": "stream",
          "text": [
            " x x x x x x x x x x\n",
            " x o x o x o x o x o\n",
            " x x x x x x x x x x\n",
            " x o x o x o x o x o\n",
            " x x x x x x x x x x\n",
            " x o x o x o x o x o\n",
            " x x x x x x x x x x\n",
            " x o x o x o x o x o\n",
            " x x x x x x x x x x\n",
            " x o x o x o x o x o\n",
            "--------------------\n",
            " x x x x x x x x x x\n",
            " x o x o x o x o x o\n",
            " x x x x x x x x x x\n",
            " x o x o x o x o x o\n",
            " x x x x x x x x x x\n",
            " x o x o x o x o x o\n",
            " x x x x x x x x x x\n",
            " x o x o x o x o x o\n",
            " x x x x x x x x x x\n",
            " x o x o x o x o x o\n"
          ],
          "name": "stdout"
        }
      ]
    },
    {
      "cell_type": "markdown",
      "metadata": {
        "id": "7EefQsuMiTN2",
        "colab_type": "text"
      },
      "source": [
        "#### 3.2)\n",
        "\n",
        "```\n",
        "N = 9\n",
        "\n",
        " x o o o o o o o x\n",
        " o x o o o o o x o\n",
        " o o x o o o x o o\n",
        " o o o x o x o o o\n",
        " o o o o x o o o o\n",
        " o o o x o x o o o\n",
        " o o x o o o x o o\n",
        " o x o o o o o x o\n",
        " x o o o o o o o x\n",
        " \n",
        "N = 10\n",
        "\n",
        " x o o o o o o o o x\n",
        " o x o o o o o o x o\n",
        " o o x o o o o x o o\n",
        " o o o x o o x o o o\n",
        " o o o o x x o o o o\n",
        " o o o o x x o o o o\n",
        " o o o x o o x o o o\n",
        " o o x o o o o x o o\n",
        " o x o o o o o o x o\n",
        " x o o o o o o o o x\n",
        "\n",
        "\n",
        "```"
      ]
    },
    {
      "cell_type": "code",
      "metadata": {
        "id": "rF2m_VjRiTN2",
        "colab_type": "code",
        "colab": {}
      },
      "source": [
        ""
      ],
      "execution_count": null,
      "outputs": []
    },
    {
      "cell_type": "markdown",
      "metadata": {
        "id": "IrHU3ESmiTN5",
        "colab_type": "text"
      },
      "source": [
        "#### 3.3)\n",
        "\n",
        "```\n",
        "N = 10\n",
        "\n",
        " o x o x o x o x o x\n",
        " x o x o x o x o x o\n",
        " o x o x o x o x o x\n",
        " x o x o x o x o x o\n",
        " o x o x o x o x o x\n",
        " x o x o x o x o x o\n",
        " o x o x o x o x o x\n",
        " x o x o x o x o x o\n",
        " o x o x o x o x o x\n",
        " x o x o x o x o x o\n",
        "\n",
        "```"
      ]
    },
    {
      "cell_type": "code",
      "metadata": {
        "id": "bQa3FjxsiTN5",
        "colab_type": "code",
        "colab": {}
      },
      "source": [
        ""
      ],
      "execution_count": null,
      "outputs": []
    },
    {
      "cell_type": "markdown",
      "metadata": {
        "id": "TI0muGk7ih5y",
        "colab_type": "text"
      },
      "source": [
        "4) Given a dictionary containing the mapping from RNA (keys) to amino acids (values).\n",
        "\n",
        "The goal of the question is to invert the dictionary that given an amino acid, a list of the triplets which encode it will be returned.\n",
        "- In the inverted dictionary, the amino acids will be the keys, and the RNA triplets will be the values.\n",
        "- As multiple triplets can map to the same amino acid, you will need to store the triplets in a list.\n",
        "    - AA: [triplet, triplet, ...]\n",
        "    "
      ]
    },
    {
      "cell_type": "code",
      "metadata": {
        "colab_type": "code",
        "id": "jUJjbMvzFcs5",
        "colab": {
          "base_uri": "https://localhost:8080/",
          "height": 55
        },
        "outputId": "fa9f8458-589e-4052-9f47-ac364f1164e4"
      },
      "source": [
        "import pprint\n",
        "\n",
        "\n",
        "def invert():\n",
        "   \n",
        "\n",
        "    \n",
        "  d = {\n",
        "  \"AAA\":\t\"Lys\", \"AUA\":\t\"Ile\", \"ACA\":\t\"Thr\", \"AGA\":\t\"Arg\", \"AAU\":\t\"Asn\", \"AUU\":\t\"Ile\", \"ACU\":\t\"Thr\",\n",
        "  \"AGU\":\t\"Ser\", \"AAC\":\t\"Asn\", \"AUC\":\t\"Ile\", \"ACC\":\t\"Thr\", \"AGC\":\t\"Ser\", \"AAG\":\t\"Lys\", \"AUG\":\t\"Met\", \n",
        "  \"ACG\":\t\"Thr\", \"AGG\":\t\"Arg\", \"UAA\":\t\"Stop\", \"UUA\": \"Leu\", \"UCA\": \"Ser\", \"UGA\":\t\"Stop\", \"UAU\": \"Tyr\", \n",
        "  \"UUU\":\t\"Phe\", \"UCU\":\t\"Ser\", \"UGU\":\t\"Cys\", \"UAC\":\t\"Tyr\", \"UUC\":\t\"Phe\", \"UCC\":\t\"Ser\", \"UGC\":\t\"Cys\", \n",
        "  \"UAG\":\t\"Stop\", \"UUG\": \"Leu\", \"UCG\":\t\"Ser\", \"UGG\":\t\"His\", \"CAA\":\t\"Gln\", \"CUA\":\t\"Leu\", \"CCA\":\t\"Pro\", \n",
        "  \"CGA\":\t\"Arg\", \"CAU\":\t\"His\", \"CUU\":\t\"Leu\", \"CCU\":\t\"Pro\", \"CGU\":\t\"Arg\", \"CAC\":\t\"His\", \"CUC\":\t\"Leu\", \n",
        "  \"CCC\":\t\"Pro\", \"CGC\":\t\"Arg\", \"CAG\":\t\"Gln\", \"CUG\":\t\"Leu\", \"CCG\":\t\"Pro\", \"CGG\":\t\"Arg\", \"GAA\":\t\"Glu\", \n",
        "  \"GUA\":\t\"Val\", \"GCA\":\t\"Ala\", \"GGA\":\t\"Gly\", \"GAU\":\t\"Asp\", \"GUU\":\t\"Val\", \"GCU\":\t\"Ala\", \"GGU\":\t\"Gly\", \n",
        "  \"GAC\":\t\"Asp\", \"GUC\":\t\"Val\", \"GCC\":\t\"Ala\", \"GGC\":\t\"Gly\", \"GAG\":\t\"Glu\", \"GUG\":\t\"Val\", \"GCG\":\t\"Ala\", \n",
        "  \"GGG\":\t\"Gly\",\n",
        "} \n",
        "\n",
        "\n",
        "newdict ={}\n",
        "inv_dict = {v: k for k, v in d.items()}\n",
        "\n",
        "print(inv_dict)\n",
        "\n",
        "\n",
        "      \n",
        "\n",
        "                   \n",
        " \n",
        "      "
      ],
      "execution_count": 117,
      "outputs": [
        {
          "output_type": "stream",
          "text": [
            "{'Lys': 'AAG', 'Ile': 'AUC', 'Thr': 'ACG', 'Arg': 'CGG', 'Asn': 'AAC', 'Ser': 'UCG', 'Met': 'AUG', 'Stop': 'UAG', 'Leu': 'CUG', 'Tyr': 'UAC', 'Phe': 'UUC', 'Cys': 'UGC', 'His': 'CAC', 'Gln': 'CAG', 'Pro': 'CCG', 'Glu': 'GAG', 'Val': 'GUG', 'Ala': 'GCG', 'Gly': 'GGG', 'Asp': 'GAC'}\n"
          ],
          "name": "stdout"
        }
      ]
    },
    {
      "cell_type": "code",
      "metadata": {
        "id": "1N1JMG3_P4eR",
        "colab_type": "code",
        "colab": {}
      },
      "source": [
        ""
      ],
      "execution_count": null,
      "outputs": []
    },
    {
      "cell_type": "code",
      "metadata": {
        "id": "SL57ZL6HrxKL",
        "colab_type": "code",
        "colab": {}
      },
      "source": [
        "# Expected output\n",
        "# {\n",
        "#  'Ala': ['GCA', 'GCU', 'GCC', 'GCG'],\n",
        "#  'Arg': ['AGA', 'AGG', 'CGA', 'CGU', 'CGC', 'CGG'],\n",
        "#  'Asn': ['AAU', 'AAC'],\n",
        "#  'Asp': ['GAU', 'GAC'],\n",
        "#  'Cys': ['UGU', 'UGC'],\n",
        "#  'Gln': ['CAA', 'CAG'],\n",
        "#  'Glu': ['GAA', 'GAG'],\n",
        "#  'Gly': ['GGA', 'GGU', 'GGC', 'GGG'],\n",
        "#  'His': ['UGG', 'CAU', 'CAC'],\n",
        "#  'Ile': ['AUA', 'AUU', 'AUC'],\n",
        "#  'Leu': ['UUA', 'UUG', 'CUA', 'CUU', 'CUC', 'CUG'],\n",
        "#  'Lys': ['AAA', 'AAG'],\n",
        "#  'Met': ['AUG'],\n",
        "#  'Phe': ['UUU', 'UUC'],\n",
        "#  'Pro': ['CCA', 'CCU', 'CCC', 'CCG'],\n",
        "#  'Ser': ['AGU', 'AGC', 'UCA', 'UCU', 'UCC', 'UCG'],\n",
        "#  'Stop': ['UAA', 'UGA', 'UAG'],\n",
        "#  'Thr': ['ACA', 'ACU', 'ACC', 'ACG'],\n",
        "#  'Tyr': ['UAU', 'UAC'],\n",
        "#  'Val': ['GUA', 'GUU', 'GUC', 'GUG']\n",
        "#  }"
      ],
      "execution_count": null,
      "outputs": []
    }
  ]
}