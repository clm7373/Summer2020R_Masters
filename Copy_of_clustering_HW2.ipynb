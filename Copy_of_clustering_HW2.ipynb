{
  "nbformat": 4,
  "nbformat_minor": 0,
  "metadata": {
    "colab": {
      "name": "Copy of clustering_HW2.ipynb",
      "provenance": [],
      "include_colab_link": true
    },
    "kernelspec": {
      "name": "python3",
      "display_name": "Python 3"
    }
  },
  "cells": [
    {
      "cell_type": "markdown",
      "metadata": {
        "id": "view-in-github",
        "colab_type": "text"
      },
      "source": [
        "<a href=\"https://colab.research.google.com/github/clm7373/Summer2020R_Masters/blob/master/Copy_of_clustering_HW2.ipynb\" target=\"_parent\"><img src=\"https://colab.research.google.com/assets/colab-badge.svg\" alt=\"Open In Colab\"/></a>"
      ]
    },
    {
      "cell_type": "markdown",
      "metadata": {
        "id": "uPmgpL4Dq8L0"
      },
      "source": [
        "# Homework for Clustering Analysis\n",
        "The **MNIST** (Mixed National Institute of Standards and Technology) database contains 60000 training examples and 10000 testing examples of handwritten digit images.  Due to its popularity in performance testing, it has been recognized as \"the Drosophila of machine learning\". In this assignment, we ask you to apply some clustering methods to a subset (n=1000) of the MNIST data.  \n",
        "\n",
        "Each sample contains 784 integers ranging from $0$ to $255$, representing intensity value of a $28 \\times 28$ image, one number for one pixel. To conveniently run the clustering functions, the square pixel matrix is flattened into the row vector, from left to right, top to bottom, with the first element of the vector corresponds to the upper left pixel. The label vector is a 1000-element array containing the true class of the samples."
      ]
    },
    {
      "cell_type": "code",
      "metadata": {
        "id": "pzH-gFIDfTMZ",
        "outputId": "d8afbb6c-eaba-4729-85a2-95e4d5882f0c",
        "colab": {
          "base_uri": "https://localhost:8080/",
          "height": 52
        }
      },
      "source": [
        "from tensorflow.keras.datasets import mnist\n",
        "_ , (dat, lab) = mnist.load_data()  # use the first 1000 images in the test set of MNIST"
      ],
      "execution_count": null,
      "outputs": [
        {
          "output_type": "stream",
          "text": [
            "Downloading data from https://storage.googleapis.com/tensorflow/tf-keras-datasets/mnist.npz\n",
            "11493376/11490434 [==============================] - 0s 0us/step\n"
          ],
          "name": "stdout"
        }
      ]
    },
    {
      "cell_type": "code",
      "metadata": {
        "id": "me1dnFlhjwtg",
        "outputId": "2a137968-db1d-4f65-e0cc-711da9da5881",
        "colab": {
          "base_uri": "https://localhost:8080/",
          "height": 35
        }
      },
      "source": [
        "dat.shape"
      ],
      "execution_count": null,
      "outputs": [
        {
          "output_type": "execute_result",
          "data": {
            "text/plain": [
              "(10000, 28, 28)"
            ]
          },
          "metadata": {
            "tags": []
          },
          "execution_count": 3
        }
      ]
    },
    {
      "cell_type": "code",
      "metadata": {
        "id": "Bgsg5xWUfund"
      },
      "source": [
        "dat = dat[0:1000,:,:].reshape((1000, 28*28))  # flatten the image for the convenient of downstream analysis\n",
        "lab = lab[0:1000]"
      ],
      "execution_count": null,
      "outputs": []
    },
    {
      "cell_type": "code",
      "metadata": {
        "id": "pvIjQafgh-iZ",
        "outputId": "d855d1db-dd97-43d1-c0d6-377d91659bb3",
        "colab": {
          "base_uri": "https://localhost:8080/",
          "height": 54
        }
      },
      "source": [
        "print(f'Data dimension: {dat.shape}')\n",
        "print(f'First 10 labels: {lab[0:10]}')"
      ],
      "execution_count": null,
      "outputs": [
        {
          "output_type": "stream",
          "text": [
            "Data dimension: (1000, 784)\n",
            "First 10 labels: [7 2 1 0 4 1 4 9 5 9]\n"
          ],
          "name": "stdout"
        }
      ]
    },
    {
      "cell_type": "markdown",
      "metadata": {
        "id": "7toZoCLHlJnZ"
      },
      "source": [
        "Please feel free to use your favorite programming language. Most (if not all) algorithms and procedures mentioned here have existing implementations in Python, R and Matlab.\n",
        "\n",
        "If you want to run the analysis on your local machine, you can download the tab-delimited files `dat.txt` and `lab.txt` from the homework folder. "
      ]
    },
    {
      "cell_type": "markdown",
      "metadata": {
        "id": "M7gXKye-OwlX"
      },
      "source": [
        "Once the data are ready, we can quickly try visualizing a digit image:"
      ]
    },
    {
      "cell_type": "code",
      "metadata": {
        "id": "6TDzgUfiO1LI",
        "outputId": "7d17a4d7-b068-40cd-a038-92cbf0cfdf0a",
        "colab": {
          "base_uri": "https://localhost:8080/",
          "height": 282
        }
      },
      "source": [
        "import matplotlib.pyplot as plt\n",
        "im = dat[0,:]\n",
        "im = im.reshape((28, 28))\n",
        "plt.imshow(im, cmap='gray')"
      ],
      "execution_count": null,
      "outputs": [
        {
          "output_type": "execute_result",
          "data": {
            "text/plain": [
              "<matplotlib.image.AxesImage at 0x7f81828aaba8>"
            ]
          },
          "metadata": {
            "tags": []
          },
          "execution_count": 5
        },
        {
          "output_type": "display_data",
          "data": {
            "image/png": "[encoded data removed]",
            "text/plain": [
              "<Figure size 432x288 with 1 Axes>"
            ]
          },
          "metadata": {
            "tags": [],
            "needs_background": "light"
          }
        }
      ]
    },
    {
      "cell_type": "markdown",
      "metadata": {
        "id": "65ruGltBjQut"
      },
      "source": [
        "Here are the questions:"
      ]
    },
    {
      "cell_type": "markdown",
      "metadata": {
        "id": "Q8tryHctqs80"
      },
      "source": [
        "1. Subset the data and only keep examples whose true labels are 0 or 1 (there should be 211 of them in total). Run hierarchical clustering on this subset with Euclidean distance as dissimilarity measure. Plot the dendrogram for single, complete and average linkages. \n",
        "\n"
      ]
    },
    {
      "cell_type": "markdown",
      "metadata": {
        "id": "kNdUvSFixHzj"
      },
      "source": [
        "2. For the three dengrograms obtained in question 1, cut each tree and obtain two-group assignments. Produce contingency tables for each assignment compared to the true labels. Which linkage performs the best?\n",
        "\n"
      ]
    },
    {
      "cell_type": "markdown",
      "metadata": {
        "id": "mdUr-xB7xKBI"
      },
      "source": [
        "3. **With the subset of $0$s and $1$s**, calculate the Gap statistic for K-means clustering with $k$ ranging from $1$ to $10$. You can choose your own Monte Carlo sample numbers if you want to (in the R and Matlab functions this is set to 100 by default), and use uniform over principle conponents as the reference distribution. Which $k$ value has the largest Gap statistic? Does this make sense to you? If not, could you make some speculations about why it is the case?\n"
      ]
    },
    {
      "cell_type": "markdown",
      "metadata": {
        "id": "TwPlk600xNh3"
      },
      "source": [
        "4. Run the K-means algorithm with $k=10$ to cluster **all of the 1000 images**  into 10 groups. You may want to run mutiple times with random initiation and pick a solution with the smallest within-cluster sum of squares. Visualize the cluster centers (centroids) as ten $28 \\times 28$ images. "
      ]
    },
    {
      "cell_type": "markdown",
      "metadata": {
        "id": "cNbBDGlAxQQ9"
      },
      "source": [
        "5. Try DBSCAN algorithm on the 1000 digits with Pearson correlation distance as the dissimilarity measure. For density clustering, it is helpful to look at the distribution of k-nearest neighbor distance in the data. Here we try k=5. "
      ]
    },
    {
      "cell_type": "code",
      "metadata": {
        "id": "PJwqTJv-93Aq"
      },
      "source": [
        "import numpy as np\n",
        "from sklearn.metrics import pairwise_distances\n",
        "dist = pairwise_distances(dat, metric='correlation')"
      ],
      "execution_count": null,
      "outputs": []
    },
    {
      "cell_type": "code",
      "metadata": {
        "id": "AHnaWNxCTi9I",
        "outputId": "6f46fd90-e6dd-455c-fb40-930dc5dc7899",
        "colab": {
          "base_uri": "https://localhost:8080/",
          "height": 282
        }
      },
      "source": [
        "knn = np.sort(dist, axis=0)[4,:]\n",
        "knn = np.sort(knn)\n",
        "plt.plot(knn)"
      ],
      "execution_count": null,
      "outputs": [
        {
          "output_type": "execute_result",
          "data": {
            "text/plain": [
              "[<matplotlib.lines.Line2D at 0x7f81823816a0>]"
            ]
          },
          "metadata": {
            "tags": []
          },
          "execution_count": 6
        },
        {
          "output_type": "display_data",
          "data": {
            "image/png": "[encoded data removed]",
            "text/plain": [
              "<Figure size 432x288 with 1 Axes>"
            ]
          },
          "metadata": {
            "tags": [],
            "needs_background": "light"
          }
        }
      ]
    },
    {
      "cell_type": "markdown",
      "metadata": {
        "id": "rgZB3ObeVOPs"
      },
      "source": [
        "Run DBSCAN with $\\epsilon = 0.5$ and minimal number of samples in neiboughhood as 5. How many clusters do you get? Again, does this result make sense to you? If not, any thoughts why?"
      ]
    }
  ]
}